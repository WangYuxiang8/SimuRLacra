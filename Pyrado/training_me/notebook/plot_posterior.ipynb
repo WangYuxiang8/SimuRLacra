{
 "cells": [
  {
   "cell_type": "code",
   "execution_count": 10,
   "id": "133d646e",
   "metadata": {},
   "outputs": [
    {
     "data": {
      "text/plain": [
       "['/Users/joseph/workspace/SimuRLacra/Pyrado/training_me/notebook',\n",
       " '/Users/joseph/miniconda3/envs/pyrado/lib/python38.zip',\n",
       " '/Users/joseph/miniconda3/envs/pyrado/lib/python3.8',\n",
       " '/Users/joseph/miniconda3/envs/pyrado/lib/python3.8/lib-dynload',\n",
       " '',\n",
       " '/Users/joseph/miniconda3/envs/pyrado/lib/python3.8/site-packages',\n",
       " '/home/wyx/workspace/SimuRLacra/Pyrado/',\n",
       " '~/workspace/SimuRLacra/Pyrado/',\n",
       " '/User/joseph/workspace/SimuRLacra/Pyrado/',\n",
       " '/User/joseph/workspace/SimuRLacra/Pyrado/',\n",
       " '/User/joseph/workspace/SimuRLacra/Pyrado/',\n",
       " '/User/joseph/workspace/SimuRLacra/Pyrado/']"
      ]
     },
     "execution_count": 10,
     "metadata": {},
     "output_type": "execute_result"
    }
   ],
   "source": [
    "import sys\n",
    "from sbi import analysis as analysis\n",
    "sys.path.append(\"/User/joseph/workspace/SimuRLacra/Pyrado/\")\n",
    "sys.path\n",
    "#from ..eval_posterior import get_lunar_lander_true_data"
   ]
  },
  {
   "cell_type": "code",
   "execution_count": 13,
   "id": "892c253c",
   "metadata": {},
   "outputs": [
    {
     "ename": "ImportError",
     "evalue": "attempted relative import with no known parent package",
     "output_type": "error",
     "traceback": [
      "\u001b[0;31m---------------------------------------------------------------------------\u001b[0m",
      "\u001b[0;31mImportError\u001b[0m                               Traceback (most recent call last)",
      "Input \u001b[0;32mIn [13]\u001b[0m, in \u001b[0;36m<cell line: 1>\u001b[0;34m()\u001b[0m\n\u001b[0;32m----> 1\u001b[0m \u001b[38;5;28;01mfrom\u001b[39;00m \u001b[38;5;21;01m.\u001b[39;00m\u001b[38;5;21;01m.\u001b[39;00m\u001b[38;5;21;01meval_posterior\u001b[39;00m \u001b[38;5;28;01mimport\u001b[39;00m eval_vi_posterior, eval_rejection_posterior, get_true_data\n\u001b[1;32m      2\u001b[0m env_name \u001b[38;5;241m=\u001b[39m \u001b[38;5;124m\"\u001b[39m\u001b[38;5;124mcth\u001b[39m\u001b[38;5;124m\"\u001b[39m\n\u001b[1;32m      3\u001b[0m get_true_data(env_name)\n",
      "\u001b[0;31mImportError\u001b[0m: attempted relative import with no known parent package"
     ]
    }
   ],
   "source": [
    "from training_me.eval_posterior import eval_vi_posterior, eval_rejection_posterior, get_true_data\n",
    "env_name = \"cth\"\n",
    "get_true_data(env_name)"
   ]
  },
  {
   "cell_type": "code",
   "execution_count": 3,
   "id": "0382c922",
   "metadata": {},
   "outputs": [
    {
     "name": "stdout",
     "output_type": "stream",
     "text": [
      "Parameters: tensor([5.]), Real data: tensor([[-1.8420e-01, -4.3113e+00,  3.4398e+02, -5.3831e-01,  3.2746e+02, -6.0478e+00,  7.8356e-04,  9.4278e-03, -1.7118e-02,  5.5713e-04,  3.2675e-01,  3.4369e-01]])\n"
     ]
    }
   ],
   "source": [
    "ex_dir = \"/home/wyx/workspace/SimuRLacra/Pyrado/training_me/\" + env_name\n",
    "sample_num = 100000\n",
    "theta, x_o = get_true_data(env_name)"
   ]
  },
  {
   "cell_type": "code",
   "execution_count": 4,
   "id": "e6b4ca4a",
   "metadata": {},
   "outputs": [
    {
     "name": "stderr",
     "output_type": "stream",
     "text": [
      "Loss: -9.63Std: 0.01:  14%|█████████████████▎                                                                                                     | 290/2000 [00:06<00:35, 48.24it/s]"
     ]
    },
    {
     "name": "stdout",
     "output_type": "stream",
     "text": [
      "\n",
      "Converged with loss: -9.63\n"
     ]
    },
    {
     "name": "stderr",
     "output_type": "stream",
     "text": [
      "Loss: -9.63Std: 0.01:  15%|█████████████████▎                                                                                                     | 291/2000 [00:06<00:39, 43.26it/s]\n"
     ]
    },
    {
     "name": "stdout",
     "output_type": "stream",
     "text": [
      "Quality Score: 0.191 \t Good: Smaller than 0.5  Bad: Larger than 1.0 \t         NOTE: Less sensitive to mode collapse.\n",
      "Posterior mean: [5.1018863], time cost: 0.04986143112182617\n"
     ]
    },
    {
     "data": {
      "image/png": "[encoded data removed]",
      "text/plain": [
       "<Figure size 108x108 with 1 Axes>"
      ]
     },
     "metadata": {
      "needs_background": "light"
     },
     "output_type": "display_data"
    }
   ],
   "source": [
    "posterior_samples = eval_vi_posterior(ex_dir, f\"snvi_posterior_0.pt\", sample_num, x_o)\n",
    "mean = posterior_samples.mean()\n",
    "# plot posterior samples\n",
    "fig, axes = analysis.pairplot(posterior_samples,\n",
    "                      limits=[[0, 6]],\n",
    "                      points=[theta, mean],\n",
    "                      labels=[\"wave height\"],\n",
    "                      points_colors=[\"black\", \"red\"],\n",
    "                      diag=['kde'],\n",
    "                      figsize=(1.5,1.5))\n",
    "fig.savefig(ex_dir + \"/snvi_posterior_{0}.pdf\".format(theta.detach().item()), transparent=True)"
   ]
  },
  {
   "cell_type": "code",
   "execution_count": 5,
   "id": "00279e1f",
   "metadata": {},
   "outputs": [
    {
     "name": "stdout",
     "output_type": "stream",
     "text": [
      "Abs error: 1.0314840078353882, Square error: 1.7049458026885986\n"
     ]
    }
   ],
   "source": [
    "import torch\n",
    "abs_error = 0.\n",
    "square_error = 0.\n",
    "for sample in posterior_samples:\n",
    "    error = theta - sample\n",
    "    abs_error += torch.abs(error).sum()\n",
    "    square_error += torch.pow(error, 2).sum()\n",
    "abs_error /= len(posterior_samples)\n",
    "square_error /= len(posterior_samples)\n",
    "print(\"Abs error: {0}, Square error: {1}\".format(abs_error, square_error))"
   ]
  },
  {
   "cell_type": "code",
   "execution_count": 6,
   "id": "96b505e1",
   "metadata": {},
   "outputs": [
    {
     "name": "stderr",
     "output_type": "stream",
     "text": [
      "Drawing 100000 posterior samples: 100159it [00:00, 558446.20it/s]               \n"
     ]
    },
    {
     "name": "stdout",
     "output_type": "stream",
     "text": [
      "Posterior mean: [3.7336357], time cost: 0.18320631980895996\n"
     ]
    },
    {
     "data": {
      "image/png": "[encoded data removed]",
      "text/plain": [
       "<Figure size 108x108 with 1 Axes>"
      ]
     },
     "metadata": {
      "needs_background": "light"
     },
     "output_type": "display_data"
    }
   ],
   "source": [
    "posterior_samples = eval_rejection_posterior(ex_dir, f\"rejection_posterior_0.pt\", sample_num, x_o)\n",
    "mean = posterior_samples.mean()\n",
    "# plot posterior samples\n",
    "fig, axes = analysis.pairplot(posterior_samples,\n",
    "                      limits=[[-5, 5]],\n",
    "                      points=[theta, mean],\n",
    "                      labels=[\"wind force\"],\n",
    "                      points_colors=[\"black\", \"red\"],\n",
    "                      diag=['kde'],\n",
    "                      figsize=(1.5,1.5))\n",
    "fig.savefig(ex_dir + \"/rejection_posterior_{0}.pdf\".format(theta.detach().item()), transparent=True)"
   ]
  },
  {
   "cell_type": "code",
   "execution_count": 7,
   "id": "ade40a5b",
   "metadata": {},
   "outputs": [
    {
     "name": "stdout",
     "output_type": "stream",
     "text": [
      "Abs error: 1.246439814567566, Square error: 2.0649526119232178\n"
     ]
    }
   ],
   "source": [
    "abs_error = 0.\n",
    "square_error = 0.\n",
    "for sample in posterior_samples:\n",
    "    error = theta - sample\n",
    "    abs_error += torch.abs(error).sum()\n",
    "    square_error += torch.pow(error, 2).sum()\n",
    "abs_error /= len(posterior_samples)\n",
    "square_error /= len(posterior_samples)\n",
    "print(\"Abs error: {0}, Square error: {1}\".format(abs_error, square_error))"
   ]
  },
  {
   "cell_type": "code",
   "execution_count": null,
   "id": "1c984c0a",
   "metadata": {},
   "outputs": [],
   "source": []
  },
  {
   "cell_type": "code",
   "execution_count": null,
   "id": "14a6f931",
   "metadata": {},
   "outputs": [],
   "source": []
  }
 ],
 "metadata": {
  "kernelspec": {
   "display_name": "Python 3 (ipykernel)",
   "language": "python",
   "name": "python3"
  },
  "language_info": {
   "codemirror_mode": {
    "name": "ipython",
    "version": 3
   },
   "file_extension": ".py",
   "mimetype": "text/x-python",
   "name": "python",
   "nbconvert_exporter": "python",
   "pygments_lexer": "ipython3",
   "version": "3.8.13"
  }
 },
 "nbformat": 4,
 "nbformat_minor": 5
}
