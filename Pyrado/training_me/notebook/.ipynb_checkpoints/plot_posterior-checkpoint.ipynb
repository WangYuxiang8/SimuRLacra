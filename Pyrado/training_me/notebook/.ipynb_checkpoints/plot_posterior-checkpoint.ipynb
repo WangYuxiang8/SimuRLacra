{
 "cells": [
  {
   "cell_type": "code",
   "execution_count": 1,
   "id": "53344a33",
   "metadata": {},
   "outputs": [
    {
     "data": {
      "text/plain": [
       "['/Users/4paradigm/workspace/SimuRLacra/Pyrado/training_me/notebook',\n",
       " '/Users/4paradigm/anaconda3/envs/pyrado/lib/python37.zip',\n",
       " '/Users/4paradigm/anaconda3/envs/pyrado/lib/python3.7',\n",
       " '/Users/4paradigm/anaconda3/envs/pyrado/lib/python3.7/lib-dynload',\n",
       " '',\n",
       " '/Users/4paradigm/anaconda3/envs/pyrado/lib/python3.7/site-packages',\n",
       " '/Users/4paradigm/anaconda3/envs/pyrado/lib/python3.7/site-packages/IPython/extensions',\n",
       " '/Users/4paradigm/.ipython',\n",
       " '/Users/4paradigm/workspace/SimuRLacra/Pyrado/']"
      ]
     },
     "execution_count": 1,
     "metadata": {},
     "output_type": "execute_result"
    }
   ],
   "source": [
    "import sys\n",
    "from sbi import analysis as analysis\n",
    "sys.path.append(\"/Users/4paradigm/workspace/SimuRLacra/Pyrado/\")\n",
    "sys.path\n",
    "#from ..eval_posterior import get_lunar_lander_true_data"
   ]
  },
  {
   "cell_type": "code",
   "execution_count": 2,
   "id": "0c64dead",
   "metadata": {},
   "outputs": [
    {
     "name": "stdout",
     "output_type": "stream",
     "text": [
      "Importing the dtw module. When using in academic works please cite:\n",
      "  T. Giorgino. Computing and Visualizing Dynamic Time Warping Alignments in R: The dtw Package.\n",
      "  J. Stat. Soft., doi:10.18637/jss.v031.i07.\n",
      "\n",
      "Real data: tensor([[-8.7232e-02, -2.5767e-03, -1.0726e+00,  1.6534e+00, -3.5901e-03,  1.1631e-01,  0.0000e+00,  0.0000e+00,  7.9607e-03, -2.1741e-02,  2.3276e-01, -2.1531e-01, -2.9572e-02, -1.3002e+00,\n",
      "          0.0000e+00,  0.0000e+00,  3.9566e-07, -1.4090e-03,  4.0081e-05,  1.4896e-04, -4.6515e-07, -9.0789e-06,  0.0000e+00,  0.0000e+00,  1.0149e-03,  1.5093e-03,  3.6816e-03,  1.0988e-04,\n",
      "          2.2021e-04,  6.6046e-05,  0.0000e+00,  0.0000e+00]])\n"
     ]
    },
    {
     "data": {
      "text/plain": [
       "(tensor([18.0000,  0.6000]),\n",
       " tensor([[-8.7232e-02, -2.5767e-03, -1.0726e+00,  1.6534e+00, -3.5901e-03,  1.1631e-01,  0.0000e+00,  0.0000e+00,  7.9607e-03, -2.1741e-02,  2.3276e-01, -2.1531e-01, -2.9572e-02, -1.3002e+00,\n",
       "           0.0000e+00,  0.0000e+00,  3.9566e-07, -1.4090e-03,  4.0081e-05,  1.4896e-04, -4.6515e-07, -9.0789e-06,  0.0000e+00,  0.0000e+00,  1.0149e-03,  1.5093e-03,  3.6816e-03,  1.0988e-04,\n",
       "           2.2021e-04,  6.6046e-05,  0.0000e+00,  0.0000e+00]]))"
      ]
     },
     "execution_count": 2,
     "metadata": {},
     "output_type": "execute_result"
    }
   ],
   "source": [
    "from training_me.eval_posterior import eval_vi_posterior, eval_rejection_posterior, get_true_data\n",
    "get_true_data(\"lunar_lander\")"
   ]
  },
  {
   "cell_type": "code",
   "execution_count": 7,
   "id": "92e92e7e",
   "metadata": {},
   "outputs": [
    {
     "name": "stdout",
     "output_type": "stream",
     "text": [
      "Real data: tensor([[-2.9455e-02,  7.5485e-02,  7.9944e-01,  1.9451e+00, -2.4106e-02,  2.1949e-02,  0.0000e+00,  0.0000e+00, -3.5508e-02,  1.1711e-02,  5.4180e-01,  1.1106e-01, -6.6705e-02, -1.8781e+00,\n",
      "          0.0000e+00,  0.0000e+00,  1.2580e-07, -1.4214e-03,  1.2763e-05, -4.0466e-04, -1.5261e-07, -2.8909e-06,  0.0000e+00,  0.0000e+00,  1.0405e-03,  6.5224e-03,  2.1429e-03,  1.2682e-04,\n",
      "          2.5888e-05,  1.0673e-04,  0.0000e+00,  0.0000e+00]])\n"
     ]
    }
   ],
   "source": [
    "ex_dir = \"/Users/4paradigm/workspace/SimuRLacra/Pyrado/training_me/lunar_lander\"\n",
    "sample_num = 100000\n",
    "theta, x_o = get_true_data(\"lunar_lander\")"
   ]
  },
  {
   "cell_type": "code",
   "execution_count": 13,
   "id": "4c0d05c0",
   "metadata": {},
   "outputs": [
    {
     "data": {
      "application/vnd.jupyter.widget-view+json": {
       "model_id": "d83cd48df8d04f64a94fae8a1e2e75b6",
       "version_major": 2,
       "version_minor": 0
      },
      "text/plain": [
       "Drawing 100000 posterior samples:   0%|          | 0/100000 [00:00<?, ?it/s]"
      ]
     },
     "metadata": {},
     "output_type": "display_data"
    },
    {
     "name": "stdout",
     "output_type": "stream",
     "text": [
      "Posterior mean: [17.284458, 0.652297], time cost: 0.9843640327453613\n"
     ]
    },
    {
     "data": {
      "image/png": "[encoded data removed]",
      "text/plain": [
       "<Figure size 432x432 with 4 Axes>"
      ]
     },
     "metadata": {
      "needs_background": "light"
     },
     "output_type": "display_data"
    }
   ],
   "source": [
    "# posterior_samples = eval_vi_posterior(ex_dir, f\"snvi_posterior_2.pt\", sample_num, x_o)\n",
    "posterior_samples = eval_rejection_posterior(ex_dir, f\"rejection_posterior_0.pt\", sample_num, x_o)\n",
    "\n",
    "# plot posterior samples\n",
    "_ = analysis.pairplot(posterior_samples, limits=[[8, 20],[0.3,1]], \n",
    "                   figsize=(6,6))"
   ]
  },
  {
   "cell_type": "code",
   "execution_count": 14,
   "id": "f61f1050",
   "metadata": {},
   "outputs": [
    {
     "name": "stdout",
     "output_type": "stream",
     "text": [
      "Abs error: 1.3645585775375366, Square error: 2.510085105895996\n"
     ]
    }
   ],
   "source": [
    "abs_error = 0.\n",
    "square_error = 0.\n",
    "for sample in posterior_samples:\n",
    "    error = theta - sample\n",
    "    abs_error += torch.abs(error).sum()\n",
    "    square_error += torch.pow(error, 2).sum()\n",
    "abs_error /= len(posterior_samples)\n",
    "square_error /= len(posterior_samples)\n",
    "print(\"Abs error: {0}, Square error: {1}\".format(abs_error, square_error))"
   ]
  },
  {
   "cell_type": "code",
   "execution_count": 6,
   "id": "2966ec77",
   "metadata": {},
   "outputs": [
    {
     "data": {
      "text/plain": [
       "array([[ 16.5318,   0.4665],\n",
       "       [ 18.5326,   0.5541],\n",
       "       [ 18.5647,   0.4879],\n",
       "       ...,\n",
       "       [ 19.4304,   0.4728],\n",
       "       [ 18.7263,   0.3599],\n",
       "       [ 15.3005,   0.4735]], dtype=float32)"
      ]
     },
     "execution_count": 6,
     "metadata": {},
     "output_type": "execute_result"
    }
   ],
   "source": []
  },
  {
   "cell_type": "code",
   "execution_count": null,
   "id": "fb683d11",
   "metadata": {},
   "outputs": [],
   "source": []
  }
 ],
 "metadata": {
  "kernelspec": {
   "display_name": "Python 3 (ipykernel)",
   "language": "python",
   "name": "python3"
  },
  "language_info": {
   "codemirror_mode": {
    "name": "ipython",
    "version": 3
   },
   "file_extension": ".py",
   "mimetype": "text/x-python",
   "name": "python",
   "nbconvert_exporter": "python",
   "pygments_lexer": "ipython3",
   "version": "3.7.13"
  }
 },
 "nbformat": 4,
 "nbformat_minor": 5
}
